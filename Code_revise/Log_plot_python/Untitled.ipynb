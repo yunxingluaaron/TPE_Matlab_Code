{
 "cells": [
  {
   "cell_type": "code",
   "execution_count": 11,
   "id": "a9debb87",
   "metadata": {},
   "outputs": [
    {
     "data": {
      "text/html": [
       "<div>\n",
       "<style scoped>\n",
       "    .dataframe tbody tr th:only-of-type {\n",
       "        vertical-align: middle;\n",
       "    }\n",
       "\n",
       "    .dataframe tbody tr th {\n",
       "        vertical-align: top;\n",
       "    }\n",
       "\n",
       "    .dataframe thead th {\n",
       "        text-align: right;\n",
       "    }\n",
       "</style>\n",
       "<table border=\"1\" class=\"dataframe\">\n",
       "  <thead>\n",
       "    <tr style=\"text-align: right;\">\n",
       "      <th></th>\n",
       "      <th>Sec</th>\n",
       "      <th>Day</th>\n",
       "      <th>P</th>\n",
       "    </tr>\n",
       "  </thead>\n",
       "  <tbody>\n",
       "    <tr>\n",
       "      <th>0</th>\n",
       "      <td>2.370575</td>\n",
       "      <td>0.000027</td>\n",
       "      <td>12429.042538</td>\n",
       "    </tr>\n",
       "    <tr>\n",
       "      <th>1</th>\n",
       "      <td>2.889402</td>\n",
       "      <td>0.000033</td>\n",
       "      <td>18131.442560</td>\n",
       "    </tr>\n",
       "    <tr>\n",
       "      <th>2</th>\n",
       "      <td>3.521781</td>\n",
       "      <td>0.000041</td>\n",
       "      <td>18662.961666</td>\n",
       "    </tr>\n",
       "    <tr>\n",
       "      <th>3</th>\n",
       "      <td>4.292562</td>\n",
       "      <td>0.000050</td>\n",
       "      <td>5432.012060</td>\n",
       "    </tr>\n",
       "    <tr>\n",
       "      <th>4</th>\n",
       "      <td>5.232038</td>\n",
       "      <td>0.000061</td>\n",
       "      <td>-29774.984877</td>\n",
       "    </tr>\n",
       "  </tbody>\n",
       "</table>\n",
       "</div>"
      ],
      "text/plain": [
       "        Sec       Day             P\n",
       "0  2.370575  0.000027  12429.042538\n",
       "1  2.889402  0.000033  18131.442560\n",
       "2  3.521781  0.000041  18662.961666\n",
       "3  4.292562  0.000050   5432.012060\n",
       "4  5.232038  0.000061 -29774.984877"
      ]
     },
     "execution_count": 11,
     "metadata": {},
     "output_type": "execute_result"
    }
   ],
   "source": [
    "import pandas as pd\n",
    "file_name = 'Book1.xlsx' \n",
    "df = pd.read_excel(file_name)\n",
    "df.head() # print the first 5 rows"
   ]
  },
  {
   "cell_type": "code",
   "execution_count": 12,
   "id": "92a15324",
   "metadata": {},
   "outputs": [
    {
     "data": {
      "text/plain": [
       "0         2.370575\n",
       "1         2.889402\n",
       "2         3.521781\n",
       "3         4.292562\n",
       "4         5.232038\n",
       "5         6.377129\n",
       "6         7.772835\n",
       "7         9.474008\n",
       "8        11.547502\n",
       "9        14.074803\n",
       "10       17.155232\n",
       "11       20.909848\n",
       "12       25.486205\n",
       "13       31.064149\n",
       "14       37.862888\n",
       "15       46.149609\n",
       "16       56.249972\n",
       "17       68.560914\n",
       "18       83.566245\n",
       "19      101.855661\n",
       "20      124.147923\n",
       "21      151.319098\n",
       "22      184.436991\n",
       "23      224.803109\n",
       "24      274.003809\n",
       "25      333.972637\n",
       "26      407.066320\n",
       "27      496.157381\n",
       "28      604.747028\n",
       "29      737.102744\n",
       "30      898.426005\n",
       "31     1095.056682\n",
       "32     1334.722204\n",
       "33     1626.841232\n",
       "34     1982.893809\n",
       "35     2416.872513\n",
       "36     2945.832357\n",
       "37     3590.561038\n",
       "38     4376.395871\n",
       "39     5334.219533\n",
       "40     6501.673720\n",
       "41     7924.638440\n",
       "42     9659.035061\n",
       "43    11773.023969\n",
       "44    14349.683224\n",
       "45    17490.273456\n",
       "46    21318.217330\n",
       "47    25983.949951\n",
       "48    31670.830850\n",
       "49    38602.349858\n",
       "Name: Sec, dtype: float64"
      ]
     },
     "execution_count": 12,
     "metadata": {},
     "output_type": "execute_result"
    }
   ],
   "source": [
    "df[\"Sec\"]"
   ]
  },
  {
   "cell_type": "code",
   "execution_count": 14,
   "id": "8dd7e4e7",
   "metadata": {},
   "outputs": [
    {
     "data": {
      "image/png": "[encoded data removed]",
      "text/plain": [
       "<Figure size 432x288 with 1 Axes>"
      ]
     },
     "metadata": {
      "needs_background": "light"
     },
     "output_type": "display_data"
    }
   ],
   "source": [
    "from matplotlib import pyplot\n",
    "\n",
    "\n",
    "\n",
    "\n",
    "pyplot.plot(df[\"Day\"],df[\"P\"], color='blue', lw=2)\n",
    "pyplot.xscale('log')\n",
    "pyplot.grid(color = 'green', linestyle = '--', linewidth = 0.5)\n",
    "\n",
    "pyplot.grid(b=True, which='major', color='black', linestyle='-')\n",
    "pyplot.grid(b=True, which='minor', color='black', linestyle='--')\n",
    "pyplot.show()"
   ]
  },
  {
   "cell_type": "code",
   "execution_count": null,
   "id": "b88f624c",
   "metadata": {},
   "outputs": [],
   "source": []
  }
 ],
 "metadata": {
  "kernelspec": {
   "display_name": "Python 3 (ipykernel)",
   "language": "python",
   "name": "python3"
  },
  "language_info": {
   "codemirror_mode": {
    "name": "ipython",
    "version": 3
   },
   "file_extension": ".py",
   "mimetype": "text/x-python",
   "name": "python",
   "nbconvert_exporter": "python",
   "pygments_lexer": "ipython3",
   "version": "3.7.11"
  }
 },
 "nbformat": 4,
 "nbformat_minor": 5
}
